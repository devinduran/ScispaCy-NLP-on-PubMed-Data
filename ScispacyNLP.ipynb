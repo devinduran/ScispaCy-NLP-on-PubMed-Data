{
  "nbformat": 4,
  "nbformat_minor": 0,
  "metadata": {
    "colab": {
      "provenance": [],
      "machine_shape": "hm",
      "toc_visible": true
    },
    "kernelspec": {
      "name": "python3",
      "display_name": "Python 3"
    },
    "language_info": {
      "name": "python"
    }
  },
  "cells": [
    {
      "cell_type": "markdown",
      "source": [
        "# ScispaCy NLP"
      ],
      "metadata": {
        "id": "Y9kWwlsPTx2L"
      }
    },
    {
      "cell_type": "markdown",
      "source": [
        "Russ Steil and Devin Duran"
      ],
      "metadata": {
        "id": "OaEnRlNc1FGo"
      }
    },
    {
      "cell_type": "markdown",
      "source": [
        "## Intro"
      ],
      "metadata": {
        "id": "5JOv_rS1T58J"
      }
    },
    {
      "cell_type": "markdown",
      "source": [
        "ScispaCy is a Python library and extension of the popular spaCy library specifically designed for natural language processing (NLP) tasks in the domain of biomedical and scientific text. It provides pre-trained models and resources for specifically processing and analyzing scientific and biomedical text data.\n",
        "\n",
        "In this project a pretrained scispaCy Name Entity Recognition model is used to iterate through the 'descriptions' feature of the 32 gigabyte Healthcare Cost dataset found on Kaggle at this link: https://www.kaggle.com/datasets/jpmiller/healthcare and extract the names of any diseases present. The 'descriptions' feature has over 4 million unique values so reducing this number is essential to make the dataset usable for subsequent machine learning. This project epitomizes novelty by working toward a solution for a practical, real-world problem.\n",
        "\n",
        "The specific NER model used is named 'en_ner_bc5cdr_md' and is trained on the BC5CDR medical corpus which is a collection of 1500 PubMed articles with annotated chemical and annotated disease names.\n",
        "\n",
        "Although after removal of all NA values in the dataset 294,884,116 rows remain, this project utilizes only 10,000 of these rows due to time constraints. The conclusion of the project features a time complexity analysis of the functions used to iterate through the data."
      ],
      "metadata": {
        "id": "qfSaJeH-UAJW"
      }
    },
    {
      "cell_type": "markdown",
      "source": [
        "## Importing"
      ],
      "metadata": {
        "id": "4tAbtRk8YGgl"
      }
    },
    {
      "cell_type": "markdown",
      "source": [
        "The code below installs scispacy, spacy, and the specific en_ner_bc5cdr_md model. It also imports all of the packages needed and mounts the google drive."
      ],
      "metadata": {
        "id": "TrONf01wYOoR"
      }
    },
    {
      "cell_type": "code",
      "source": [
        "#!pip install https://s3-us-west-2.amazonaws.com/ai2-s2-scispacy/releases/v0.5.3/en_ner_bc5cdr_md-0.5.3.tar.gz\n",
        "#!pip install scispacy\n",
        "#!pip install spacy"
      ],
      "metadata": {
        "id": "LahWdPwt-A7p"
      },
      "execution_count": 23,
      "outputs": []
    },
    {
      "cell_type": "code",
      "execution_count": 5,
      "metadata": {
        "id": "oQltvU52VKiT",
        "colab": {
          "base_uri": "https://localhost:8080/"
        },
        "outputId": "b205ffd3-25ae-4877-ca0b-236250b92925"
      },
      "outputs": [
        {
          "output_type": "stream",
          "name": "stdout",
          "text": [
            "Mounted at /content/drive\n"
          ]
        }
      ],
      "source": [
        "from google.colab import drive\n",
        "import pandas as pd\n",
        "import numpy as np\n",
        "\n",
        "import scispacy\n",
        "import spacy\n",
        "\n",
        "import os\n",
        "from multiprocessing import Pool\n",
        "from multiprocessing import cpu_count\n",
        "import time\n",
        "\n",
        "import seaborn as sns\n",
        "import matplotlib.pyplot as plt\n",
        "\n",
        "drive.mount('/content/drive', force_remount = True)"
      ]
    },
    {
      "cell_type": "markdown",
      "source": [
        "This imports 10,000 rows of the description column of the overall healthcare price dataset and stores it both in a pandas dataframe and a numpy array.\n",
        "\n",
        "It also imports a small dataset that was collected by running the function on various input sizes and measuring the runtime."
      ],
      "metadata": {
        "id": "PdjvbUdbYgjw"
      }
    },
    {
      "cell_type": "code",
      "source": [
        "column_types = {'description':'string'}\n",
        "use_cols = ['description']\n",
        "\n",
        "file_path = '/content/drive/My Drive/Colab Notebooks/Classification/description_untokenized.csv'\n",
        "pandas_df = pd.read_csv(file_path, dtype=column_types, usecols = use_cols, nrows = 10000)\n",
        "\n",
        "numpy_array = pandas_df['description'].to_numpy()\n",
        "type(numpy_array)\n",
        "\n",
        "file_path = '/content/drive/My Drive/Colab Notebooks/Classification/tokenizer_time.csv'\n",
        "time_df = pd.read_csv(file_path, index_col=False)"
      ],
      "metadata": {
        "id": "jcMOLXUwVOTY"
      },
      "execution_count": 9,
      "outputs": []
    },
    {
      "cell_type": "markdown",
      "source": [
        "## Data Processing"
      ],
      "metadata": {
        "id": "DCPAazrBbQ6O"
      }
    },
    {
      "cell_type": "markdown",
      "source": [
        "### NLP model application"
      ],
      "metadata": {
        "id": "RiwA6n_zeIdu"
      }
    },
    {
      "cell_type": "markdown",
      "source": [
        "This code initializes the NLP model as sci_nlp and prints its labels: 'CHEMICAL' and 'DISEASE'. For our purposes only 'DISEASE' is used."
      ],
      "metadata": {
        "id": "I154EcREbf3A"
      }
    },
    {
      "cell_type": "code",
      "source": [
        "sci_nlp = spacy.load('en_ner_bc5cdr_md')\n",
        "print(sci_nlp.component_names)\n",
        "print(sci_nlp.get_pipe('ner').labels)"
      ],
      "metadata": {
        "id": "NMQSFtVa-gc8",
        "colab": {
          "base_uri": "https://localhost:8080/"
        },
        "outputId": "429aac73-9fe3-4d0d-a05b-43b0b86837ac"
      },
      "execution_count": 10,
      "outputs": [
        {
          "output_type": "stream",
          "name": "stdout",
          "text": [
            "['tok2vec', 'tagger', 'attribute_ruler', 'lemmatizer', 'parser', 'ner']\n",
            "('CHEMICAL', 'DISEASE')\n"
          ]
        }
      ]
    },
    {
      "cell_type": "markdown",
      "source": [
        "This function iterates through a string and returns the diseases within that string labeled by the scispacy NLP.\n"
      ],
      "metadata": {
        "id": "T6IVDzJvcU16"
      }
    },
    {
      "cell_type": "code",
      "source": [
        "def extract_diseases(text):\n",
        "  docx = sci_nlp(text)\n",
        "  return [ent.text for ent in docx.ents if ent.label_ == 'DISEASE']"
      ],
      "metadata": {
        "id": "T8DG_XjbcSD6"
      },
      "execution_count": 11,
      "outputs": []
    },
    {
      "cell_type": "code",
      "source": [
        "%%time\n",
        "disease_tokens = pandas_df['description'].apply(lambda x:extract_diseases(x))\n"
      ],
      "metadata": {
        "colab": {
          "base_uri": "https://localhost:8080/"
        },
        "id": "scFpsNgDvErN",
        "outputId": "6803e122-c2af-4118-adea-752afc732093"
      },
      "execution_count": 12,
      "outputs": [
        {
          "output_type": "stream",
          "name": "stdout",
          "text": [
            "CPU times: user 1min 36s, sys: 101 ms, total: 1min 36s\n",
            "Wall time: 1min 36s\n"
          ]
        }
      ]
    },
    {
      "cell_type": "markdown",
      "source": [
        "When applied to the description column of the pandas dataframe it extracts the disease name 'seizures' from the first 5 rows. However, the runtime of 1min 36s can be greatly reduced using parallel processing on numpy arrays."
      ],
      "metadata": {
        "id": "Hk27eDnKeZp6"
      }
    },
    {
      "cell_type": "code",
      "source": [
        "print(disease_tokens.head(5))"
      ],
      "metadata": {
        "colab": {
          "base_uri": "https://localhost:8080/"
        },
        "id": "GWg2pwUmcppd",
        "outputId": "13259062-2501-45f9-83f3-932060c0a206"
      },
      "execution_count": 13,
      "outputs": [
        {
          "output_type": "stream",
          "name": "stdout",
          "text": [
            "0    [seizures]\n",
            "1    [seizures]\n",
            "2    [seizures]\n",
            "3    [seizures]\n",
            "4    [seizures]\n",
            "Name: description, dtype: object\n"
          ]
        }
      ]
    },
    {
      "cell_type": "markdown",
      "source": [
        "### NLP model optimization"
      ],
      "metadata": {
        "id": "ueNCTcU4eP6Z"
      }
    },
    {
      "cell_type": "markdown",
      "source": [
        "The code below counts the number of CPU cores available and distributes the workload amongst all of them to iterate through the numpy array version of the descriptions at a quicker pace."
      ],
      "metadata": {
        "id": "qiVk84fVc1HG"
      }
    },
    {
      "cell_type": "code",
      "source": [
        "num_cpu_cores = os.cpu_count()\n",
        "print(f\"Number of CPU cores available: {num_cpu_cores}\")\n",
        "\n",
        "def process_text_parallel(text_array):\n",
        "    with Pool(num_cpu_cores) as pool:\n",
        "        return pool.map(extract_diseases, text_array)"
      ],
      "metadata": {
        "id": "h4p-_2QLG22p",
        "colab": {
          "base_uri": "https://localhost:8080/"
        },
        "outputId": "0f70aea9-fe1a-4572-f5d7-25e95656144a"
      },
      "execution_count": 14,
      "outputs": [
        {
          "output_type": "stream",
          "name": "stdout",
          "text": [
            "Number of CPU cores available: 8\n"
          ]
        }
      ]
    },
    {
      "cell_type": "code",
      "source": [
        "%%time\n",
        "start_time = time.time()\n",
        "\n",
        "disease_tokens = process_text_parallel(numpy_array)\n",
        "\n",
        "end_time = time.time()"
      ],
      "metadata": {
        "id": "nnTtpyauG9gO",
        "colab": {
          "base_uri": "https://localhost:8080/"
        },
        "outputId": "69527f8c-ac19-4ad9-d35a-96b14bffed0d"
      },
      "execution_count": 15,
      "outputs": [
        {
          "output_type": "stream",
          "name": "stdout",
          "text": [
            "CPU times: user 321 ms, sys: 493 ms, total: 813 ms\n",
            "Wall time: 20.2 s\n"
          ]
        }
      ]
    },
    {
      "cell_type": "markdown",
      "source": [
        "This code accomplished the exact same task at roughly 5x the pace.\n",
        "\n"
      ],
      "metadata": {
        "id": "PjGUlaggfNwO"
      }
    },
    {
      "cell_type": "code",
      "source": [
        "size = len(numpy_array)"
      ],
      "metadata": {
        "id": "QxFno2evgOq_"
      },
      "execution_count": 22,
      "outputs": []
    },
    {
      "cell_type": "markdown",
      "source": [
        "### Further cleaning and Export"
      ],
      "metadata": {
        "id": "4YO7xVthf8-_"
      }
    },
    {
      "cell_type": "markdown",
      "source": [
        "The NLP model returns the diseases extracted from the description as a list, but the lists are empty for the descriptions that do not contain the names of any diseases. These rows can be removed since they are not able to be relevantly labeled."
      ],
      "metadata": {
        "id": "FZ7QylO_gM2S"
      }
    },
    {
      "cell_type": "code",
      "source": [
        "pandas_df['disease_token'] = disease_tokens\n",
        "pandas_df.tail(10)"
      ],
      "metadata": {
        "id": "IAz5hJnvYoHA",
        "colab": {
          "base_uri": "https://localhost:8080/",
          "height": 363
        },
        "outputId": "9b7e82b2-2045-4938-8c61-ae05c87a67ba"
      },
      "execution_count": 17,
      "outputs": [
        {
          "output_type": "execute_result",
          "data": {
            "text/plain": [
              "                                            description disease_token\n",
              "9990  tube suction kamvac mini curve sterile latex free            []\n",
              "9991  tube suction kamvac mini curve sterile latex free            []\n",
              "9992  knife ophthalmic 3.2mm a-ok satinslit 45d full...            []\n",
              "9993  knife ophthalmic 3.2mm a-ok satinslit 45d full...            []\n",
              "9994  knife ophthalmic 1.4mm 20ga a-ok v-lance strai...            []\n",
              "9995  knife ophthalmic 1.4mm 20ga a-ok v-lance strai...            []\n",
              "9996  knife ophthalmic blue 2.9mm ultrasharp griesha...            []\n",
              "9997  knife ophthalmic blue 2.9mm ultrasharp griesha...            []\n",
              "9998  probe hemostatic eraser 45d 18ga bipolar hollo...            []\n",
              "9999  probe hemostatic eraser 45d 18ga bipolar hollo...            []"
            ],
            "text/html": [
              "\n",
              "  <div id=\"df-abfb2d50-9211-4aff-bc97-e1cc38596f70\" class=\"colab-df-container\">\n",
              "    <div>\n",
              "<style scoped>\n",
              "    .dataframe tbody tr th:only-of-type {\n",
              "        vertical-align: middle;\n",
              "    }\n",
              "\n",
              "    .dataframe tbody tr th {\n",
              "        vertical-align: top;\n",
              "    }\n",
              "\n",
              "    .dataframe thead th {\n",
              "        text-align: right;\n",
              "    }\n",
              "</style>\n",
              "<table border=\"1\" class=\"dataframe\">\n",
              "  <thead>\n",
              "    <tr style=\"text-align: right;\">\n",
              "      <th></th>\n",
              "      <th>description</th>\n",
              "      <th>disease_token</th>\n",
              "    </tr>\n",
              "  </thead>\n",
              "  <tbody>\n",
              "    <tr>\n",
              "      <th>9990</th>\n",
              "      <td>tube suction kamvac mini curve sterile latex free</td>\n",
              "      <td>[]</td>\n",
              "    </tr>\n",
              "    <tr>\n",
              "      <th>9991</th>\n",
              "      <td>tube suction kamvac mini curve sterile latex free</td>\n",
              "      <td>[]</td>\n",
              "    </tr>\n",
              "    <tr>\n",
              "      <th>9992</th>\n",
              "      <td>knife ophthalmic 3.2mm a-ok satinslit 45d full...</td>\n",
              "      <td>[]</td>\n",
              "    </tr>\n",
              "    <tr>\n",
              "      <th>9993</th>\n",
              "      <td>knife ophthalmic 3.2mm a-ok satinslit 45d full...</td>\n",
              "      <td>[]</td>\n",
              "    </tr>\n",
              "    <tr>\n",
              "      <th>9994</th>\n",
              "      <td>knife ophthalmic 1.4mm 20ga a-ok v-lance strai...</td>\n",
              "      <td>[]</td>\n",
              "    </tr>\n",
              "    <tr>\n",
              "      <th>9995</th>\n",
              "      <td>knife ophthalmic 1.4mm 20ga a-ok v-lance strai...</td>\n",
              "      <td>[]</td>\n",
              "    </tr>\n",
              "    <tr>\n",
              "      <th>9996</th>\n",
              "      <td>knife ophthalmic blue 2.9mm ultrasharp griesha...</td>\n",
              "      <td>[]</td>\n",
              "    </tr>\n",
              "    <tr>\n",
              "      <th>9997</th>\n",
              "      <td>knife ophthalmic blue 2.9mm ultrasharp griesha...</td>\n",
              "      <td>[]</td>\n",
              "    </tr>\n",
              "    <tr>\n",
              "      <th>9998</th>\n",
              "      <td>probe hemostatic eraser 45d 18ga bipolar hollo...</td>\n",
              "      <td>[]</td>\n",
              "    </tr>\n",
              "    <tr>\n",
              "      <th>9999</th>\n",
              "      <td>probe hemostatic eraser 45d 18ga bipolar hollo...</td>\n",
              "      <td>[]</td>\n",
              "    </tr>\n",
              "  </tbody>\n",
              "</table>\n",
              "</div>\n",
              "    <div class=\"colab-df-buttons\">\n",
              "\n",
              "  <div class=\"colab-df-container\">\n",
              "    <button class=\"colab-df-convert\" onclick=\"convertToInteractive('df-abfb2d50-9211-4aff-bc97-e1cc38596f70')\"\n",
              "            title=\"Convert this dataframe to an interactive table.\"\n",
              "            style=\"display:none;\">\n",
              "\n",
              "  <svg xmlns=\"http://www.w3.org/2000/svg\" height=\"24px\" viewBox=\"0 -960 960 960\">\n",
              "    <path d=\"M120-120v-720h720v720H120Zm60-500h600v-160H180v160Zm220 220h160v-160H400v160Zm0 220h160v-160H400v160ZM180-400h160v-160H180v160Zm440 0h160v-160H620v160ZM180-180h160v-160H180v160Zm440 0h160v-160H620v160Z\"/>\n",
              "  </svg>\n",
              "    </button>\n",
              "\n",
              "  <style>\n",
              "    .colab-df-container {\n",
              "      display:flex;\n",
              "      gap: 12px;\n",
              "    }\n",
              "\n",
              "    .colab-df-convert {\n",
              "      background-color: #E8F0FE;\n",
              "      border: none;\n",
              "      border-radius: 50%;\n",
              "      cursor: pointer;\n",
              "      display: none;\n",
              "      fill: #1967D2;\n",
              "      height: 32px;\n",
              "      padding: 0 0 0 0;\n",
              "      width: 32px;\n",
              "    }\n",
              "\n",
              "    .colab-df-convert:hover {\n",
              "      background-color: #E2EBFA;\n",
              "      box-shadow: 0px 1px 2px rgba(60, 64, 67, 0.3), 0px 1px 3px 1px rgba(60, 64, 67, 0.15);\n",
              "      fill: #174EA6;\n",
              "    }\n",
              "\n",
              "    .colab-df-buttons div {\n",
              "      margin-bottom: 4px;\n",
              "    }\n",
              "\n",
              "    [theme=dark] .colab-df-convert {\n",
              "      background-color: #3B4455;\n",
              "      fill: #D2E3FC;\n",
              "    }\n",
              "\n",
              "    [theme=dark] .colab-df-convert:hover {\n",
              "      background-color: #434B5C;\n",
              "      box-shadow: 0px 1px 3px 1px rgba(0, 0, 0, 0.15);\n",
              "      filter: drop-shadow(0px 1px 2px rgba(0, 0, 0, 0.3));\n",
              "      fill: #FFFFFF;\n",
              "    }\n",
              "  </style>\n",
              "\n",
              "    <script>\n",
              "      const buttonEl =\n",
              "        document.querySelector('#df-abfb2d50-9211-4aff-bc97-e1cc38596f70 button.colab-df-convert');\n",
              "      buttonEl.style.display =\n",
              "        google.colab.kernel.accessAllowed ? 'block' : 'none';\n",
              "\n",
              "      async function convertToInteractive(key) {\n",
              "        const element = document.querySelector('#df-abfb2d50-9211-4aff-bc97-e1cc38596f70');\n",
              "        const dataTable =\n",
              "          await google.colab.kernel.invokeFunction('convertToInteractive',\n",
              "                                                    [key], {});\n",
              "        if (!dataTable) return;\n",
              "\n",
              "        const docLinkHtml = 'Like what you see? Visit the ' +\n",
              "          '<a target=\"_blank\" href=https://colab.research.google.com/notebooks/data_table.ipynb>data table notebook</a>'\n",
              "          + ' to learn more about interactive tables.';\n",
              "        element.innerHTML = '';\n",
              "        dataTable['output_type'] = 'display_data';\n",
              "        await google.colab.output.renderOutput(dataTable, element);\n",
              "        const docLink = document.createElement('div');\n",
              "        docLink.innerHTML = docLinkHtml;\n",
              "        element.appendChild(docLink);\n",
              "      }\n",
              "    </script>\n",
              "  </div>\n",
              "\n",
              "\n",
              "<div id=\"df-b26e3abf-a5b2-4a5f-9afc-fc2ccaa18804\">\n",
              "  <button class=\"colab-df-quickchart\" onclick=\"quickchart('df-b26e3abf-a5b2-4a5f-9afc-fc2ccaa18804')\"\n",
              "            title=\"Suggest charts.\"\n",
              "            style=\"display:none;\">\n",
              "\n",
              "<svg xmlns=\"http://www.w3.org/2000/svg\" height=\"24px\"viewBox=\"0 0 24 24\"\n",
              "     width=\"24px\">\n",
              "    <g>\n",
              "        <path d=\"M19 3H5c-1.1 0-2 .9-2 2v14c0 1.1.9 2 2 2h14c1.1 0 2-.9 2-2V5c0-1.1-.9-2-2-2zM9 17H7v-7h2v7zm4 0h-2V7h2v10zm4 0h-2v-4h2v4z\"/>\n",
              "    </g>\n",
              "</svg>\n",
              "  </button>\n",
              "\n",
              "<style>\n",
              "  .colab-df-quickchart {\n",
              "      --bg-color: #E8F0FE;\n",
              "      --fill-color: #1967D2;\n",
              "      --hover-bg-color: #E2EBFA;\n",
              "      --hover-fill-color: #174EA6;\n",
              "      --disabled-fill-color: #AAA;\n",
              "      --disabled-bg-color: #DDD;\n",
              "  }\n",
              "\n",
              "  [theme=dark] .colab-df-quickchart {\n",
              "      --bg-color: #3B4455;\n",
              "      --fill-color: #D2E3FC;\n",
              "      --hover-bg-color: #434B5C;\n",
              "      --hover-fill-color: #FFFFFF;\n",
              "      --disabled-bg-color: #3B4455;\n",
              "      --disabled-fill-color: #666;\n",
              "  }\n",
              "\n",
              "  .colab-df-quickchart {\n",
              "    background-color: var(--bg-color);\n",
              "    border: none;\n",
              "    border-radius: 50%;\n",
              "    cursor: pointer;\n",
              "    display: none;\n",
              "    fill: var(--fill-color);\n",
              "    height: 32px;\n",
              "    padding: 0;\n",
              "    width: 32px;\n",
              "  }\n",
              "\n",
              "  .colab-df-quickchart:hover {\n",
              "    background-color: var(--hover-bg-color);\n",
              "    box-shadow: 0 1px 2px rgba(60, 64, 67, 0.3), 0 1px 3px 1px rgba(60, 64, 67, 0.15);\n",
              "    fill: var(--button-hover-fill-color);\n",
              "  }\n",
              "\n",
              "  .colab-df-quickchart-complete:disabled,\n",
              "  .colab-df-quickchart-complete:disabled:hover {\n",
              "    background-color: var(--disabled-bg-color);\n",
              "    fill: var(--disabled-fill-color);\n",
              "    box-shadow: none;\n",
              "  }\n",
              "\n",
              "  .colab-df-spinner {\n",
              "    border: 2px solid var(--fill-color);\n",
              "    border-color: transparent;\n",
              "    border-bottom-color: var(--fill-color);\n",
              "    animation:\n",
              "      spin 1s steps(1) infinite;\n",
              "  }\n",
              "\n",
              "  @keyframes spin {\n",
              "    0% {\n",
              "      border-color: transparent;\n",
              "      border-bottom-color: var(--fill-color);\n",
              "      border-left-color: var(--fill-color);\n",
              "    }\n",
              "    20% {\n",
              "      border-color: transparent;\n",
              "      border-left-color: var(--fill-color);\n",
              "      border-top-color: var(--fill-color);\n",
              "    }\n",
              "    30% {\n",
              "      border-color: transparent;\n",
              "      border-left-color: var(--fill-color);\n",
              "      border-top-color: var(--fill-color);\n",
              "      border-right-color: var(--fill-color);\n",
              "    }\n",
              "    40% {\n",
              "      border-color: transparent;\n",
              "      border-right-color: var(--fill-color);\n",
              "      border-top-color: var(--fill-color);\n",
              "    }\n",
              "    60% {\n",
              "      border-color: transparent;\n",
              "      border-right-color: var(--fill-color);\n",
              "    }\n",
              "    80% {\n",
              "      border-color: transparent;\n",
              "      border-right-color: var(--fill-color);\n",
              "      border-bottom-color: var(--fill-color);\n",
              "    }\n",
              "    90% {\n",
              "      border-color: transparent;\n",
              "      border-bottom-color: var(--fill-color);\n",
              "    }\n",
              "  }\n",
              "</style>\n",
              "\n",
              "  <script>\n",
              "    async function quickchart(key) {\n",
              "      const quickchartButtonEl =\n",
              "        document.querySelector('#' + key + ' button');\n",
              "      quickchartButtonEl.disabled = true;  // To prevent multiple clicks.\n",
              "      quickchartButtonEl.classList.add('colab-df-spinner');\n",
              "      try {\n",
              "        const charts = await google.colab.kernel.invokeFunction(\n",
              "            'suggestCharts', [key], {});\n",
              "      } catch (error) {\n",
              "        console.error('Error during call to suggestCharts:', error);\n",
              "      }\n",
              "      quickchartButtonEl.classList.remove('colab-df-spinner');\n",
              "      quickchartButtonEl.classList.add('colab-df-quickchart-complete');\n",
              "    }\n",
              "    (() => {\n",
              "      let quickchartButtonEl =\n",
              "        document.querySelector('#df-b26e3abf-a5b2-4a5f-9afc-fc2ccaa18804 button');\n",
              "      quickchartButtonEl.style.display =\n",
              "        google.colab.kernel.accessAllowed ? 'block' : 'none';\n",
              "    })();\n",
              "  </script>\n",
              "</div>\n",
              "\n",
              "    </div>\n",
              "  </div>\n"
            ]
          },
          "metadata": {},
          "execution_count": 17
        }
      ]
    },
    {
      "cell_type": "markdown",
      "source": [
        "Doing this reduces the size of the dataframe by a factor of 10. This is crucial to decreasing the size of the overall dataset since 29 million rows is a lot easier to deal with than 290 million."
      ],
      "metadata": {
        "id": "KEn5ggzlhtMj"
      }
    },
    {
      "cell_type": "code",
      "source": [
        "pandas_df = pandas_df[pandas_df['disease_token'].apply(lambda x: len(x) > 0)]\n",
        "\n",
        "print(len(pandas_df))\n",
        "pandas_df.tail(5)"
      ],
      "metadata": {
        "colab": {
          "base_uri": "https://localhost:8080/",
          "height": 224
        },
        "id": "Y-wPHEGIOXvT",
        "outputId": "98e66274-00c1-459b-e109-f5c21382cff7"
      },
      "execution_count": 18,
      "outputs": [
        {
          "output_type": "stream",
          "name": "stdout",
          "text": [
            "966\n"
          ]
        },
        {
          "output_type": "execute_result",
          "data": {
            "text/plain": [
              "                                            description      disease_token\n",
              "9891  passer surgical 55cm uni-shunt long peritoneum...    [hydrocephalus]\n",
              "9930  set drainage 29cm 9fr 18ga stainless steel tfe...     [pneumothorax]\n",
              "9931  set drainage 29cm 9fr 18ga stainless steel tfe...     [pneumothorax]\n",
              "9940  packing nasal merocel l10 cm x w1.5 cm x h2.5 ...  [white epistaxis]\n",
              "9941  packing nasal merocel l10 cm x w1.5 cm x h2.5 ...  [white epistaxis]"
            ],
            "text/html": [
              "\n",
              "  <div id=\"df-cfb950b5-6f9f-4d19-9bc1-4d47beacedec\" class=\"colab-df-container\">\n",
              "    <div>\n",
              "<style scoped>\n",
              "    .dataframe tbody tr th:only-of-type {\n",
              "        vertical-align: middle;\n",
              "    }\n",
              "\n",
              "    .dataframe tbody tr th {\n",
              "        vertical-align: top;\n",
              "    }\n",
              "\n",
              "    .dataframe thead th {\n",
              "        text-align: right;\n",
              "    }\n",
              "</style>\n",
              "<table border=\"1\" class=\"dataframe\">\n",
              "  <thead>\n",
              "    <tr style=\"text-align: right;\">\n",
              "      <th></th>\n",
              "      <th>description</th>\n",
              "      <th>disease_token</th>\n",
              "    </tr>\n",
              "  </thead>\n",
              "  <tbody>\n",
              "    <tr>\n",
              "      <th>9891</th>\n",
              "      <td>passer surgical 55cm uni-shunt long peritoneum...</td>\n",
              "      <td>[hydrocephalus]</td>\n",
              "    </tr>\n",
              "    <tr>\n",
              "      <th>9930</th>\n",
              "      <td>set drainage 29cm 9fr 18ga stainless steel tfe...</td>\n",
              "      <td>[pneumothorax]</td>\n",
              "    </tr>\n",
              "    <tr>\n",
              "      <th>9931</th>\n",
              "      <td>set drainage 29cm 9fr 18ga stainless steel tfe...</td>\n",
              "      <td>[pneumothorax]</td>\n",
              "    </tr>\n",
              "    <tr>\n",
              "      <th>9940</th>\n",
              "      <td>packing nasal merocel l10 cm x w1.5 cm x h2.5 ...</td>\n",
              "      <td>[white epistaxis]</td>\n",
              "    </tr>\n",
              "    <tr>\n",
              "      <th>9941</th>\n",
              "      <td>packing nasal merocel l10 cm x w1.5 cm x h2.5 ...</td>\n",
              "      <td>[white epistaxis]</td>\n",
              "    </tr>\n",
              "  </tbody>\n",
              "</table>\n",
              "</div>\n",
              "    <div class=\"colab-df-buttons\">\n",
              "\n",
              "  <div class=\"colab-df-container\">\n",
              "    <button class=\"colab-df-convert\" onclick=\"convertToInteractive('df-cfb950b5-6f9f-4d19-9bc1-4d47beacedec')\"\n",
              "            title=\"Convert this dataframe to an interactive table.\"\n",
              "            style=\"display:none;\">\n",
              "\n",
              "  <svg xmlns=\"http://www.w3.org/2000/svg\" height=\"24px\" viewBox=\"0 -960 960 960\">\n",
              "    <path d=\"M120-120v-720h720v720H120Zm60-500h600v-160H180v160Zm220 220h160v-160H400v160Zm0 220h160v-160H400v160ZM180-400h160v-160H180v160Zm440 0h160v-160H620v160ZM180-180h160v-160H180v160Zm440 0h160v-160H620v160Z\"/>\n",
              "  </svg>\n",
              "    </button>\n",
              "\n",
              "  <style>\n",
              "    .colab-df-container {\n",
              "      display:flex;\n",
              "      gap: 12px;\n",
              "    }\n",
              "\n",
              "    .colab-df-convert {\n",
              "      background-color: #E8F0FE;\n",
              "      border: none;\n",
              "      border-radius: 50%;\n",
              "      cursor: pointer;\n",
              "      display: none;\n",
              "      fill: #1967D2;\n",
              "      height: 32px;\n",
              "      padding: 0 0 0 0;\n",
              "      width: 32px;\n",
              "    }\n",
              "\n",
              "    .colab-df-convert:hover {\n",
              "      background-color: #E2EBFA;\n",
              "      box-shadow: 0px 1px 2px rgba(60, 64, 67, 0.3), 0px 1px 3px 1px rgba(60, 64, 67, 0.15);\n",
              "      fill: #174EA6;\n",
              "    }\n",
              "\n",
              "    .colab-df-buttons div {\n",
              "      margin-bottom: 4px;\n",
              "    }\n",
              "\n",
              "    [theme=dark] .colab-df-convert {\n",
              "      background-color: #3B4455;\n",
              "      fill: #D2E3FC;\n",
              "    }\n",
              "\n",
              "    [theme=dark] .colab-df-convert:hover {\n",
              "      background-color: #434B5C;\n",
              "      box-shadow: 0px 1px 3px 1px rgba(0, 0, 0, 0.15);\n",
              "      filter: drop-shadow(0px 1px 2px rgba(0, 0, 0, 0.3));\n",
              "      fill: #FFFFFF;\n",
              "    }\n",
              "  </style>\n",
              "\n",
              "    <script>\n",
              "      const buttonEl =\n",
              "        document.querySelector('#df-cfb950b5-6f9f-4d19-9bc1-4d47beacedec button.colab-df-convert');\n",
              "      buttonEl.style.display =\n",
              "        google.colab.kernel.accessAllowed ? 'block' : 'none';\n",
              "\n",
              "      async function convertToInteractive(key) {\n",
              "        const element = document.querySelector('#df-cfb950b5-6f9f-4d19-9bc1-4d47beacedec');\n",
              "        const dataTable =\n",
              "          await google.colab.kernel.invokeFunction('convertToInteractive',\n",
              "                                                    [key], {});\n",
              "        if (!dataTable) return;\n",
              "\n",
              "        const docLinkHtml = 'Like what you see? Visit the ' +\n",
              "          '<a target=\"_blank\" href=https://colab.research.google.com/notebooks/data_table.ipynb>data table notebook</a>'\n",
              "          + ' to learn more about interactive tables.';\n",
              "        element.innerHTML = '';\n",
              "        dataTable['output_type'] = 'display_data';\n",
              "        await google.colab.output.renderOutput(dataTable, element);\n",
              "        const docLink = document.createElement('div');\n",
              "        docLink.innerHTML = docLinkHtml;\n",
              "        element.appendChild(docLink);\n",
              "      }\n",
              "    </script>\n",
              "  </div>\n",
              "\n",
              "\n",
              "<div id=\"df-44d89f1d-e3df-4561-9ae1-ed096038e38e\">\n",
              "  <button class=\"colab-df-quickchart\" onclick=\"quickchart('df-44d89f1d-e3df-4561-9ae1-ed096038e38e')\"\n",
              "            title=\"Suggest charts.\"\n",
              "            style=\"display:none;\">\n",
              "\n",
              "<svg xmlns=\"http://www.w3.org/2000/svg\" height=\"24px\"viewBox=\"0 0 24 24\"\n",
              "     width=\"24px\">\n",
              "    <g>\n",
              "        <path d=\"M19 3H5c-1.1 0-2 .9-2 2v14c0 1.1.9 2 2 2h14c1.1 0 2-.9 2-2V5c0-1.1-.9-2-2-2zM9 17H7v-7h2v7zm4 0h-2V7h2v10zm4 0h-2v-4h2v4z\"/>\n",
              "    </g>\n",
              "</svg>\n",
              "  </button>\n",
              "\n",
              "<style>\n",
              "  .colab-df-quickchart {\n",
              "      --bg-color: #E8F0FE;\n",
              "      --fill-color: #1967D2;\n",
              "      --hover-bg-color: #E2EBFA;\n",
              "      --hover-fill-color: #174EA6;\n",
              "      --disabled-fill-color: #AAA;\n",
              "      --disabled-bg-color: #DDD;\n",
              "  }\n",
              "\n",
              "  [theme=dark] .colab-df-quickchart {\n",
              "      --bg-color: #3B4455;\n",
              "      --fill-color: #D2E3FC;\n",
              "      --hover-bg-color: #434B5C;\n",
              "      --hover-fill-color: #FFFFFF;\n",
              "      --disabled-bg-color: #3B4455;\n",
              "      --disabled-fill-color: #666;\n",
              "  }\n",
              "\n",
              "  .colab-df-quickchart {\n",
              "    background-color: var(--bg-color);\n",
              "    border: none;\n",
              "    border-radius: 50%;\n",
              "    cursor: pointer;\n",
              "    display: none;\n",
              "    fill: var(--fill-color);\n",
              "    height: 32px;\n",
              "    padding: 0;\n",
              "    width: 32px;\n",
              "  }\n",
              "\n",
              "  .colab-df-quickchart:hover {\n",
              "    background-color: var(--hover-bg-color);\n",
              "    box-shadow: 0 1px 2px rgba(60, 64, 67, 0.3), 0 1px 3px 1px rgba(60, 64, 67, 0.15);\n",
              "    fill: var(--button-hover-fill-color);\n",
              "  }\n",
              "\n",
              "  .colab-df-quickchart-complete:disabled,\n",
              "  .colab-df-quickchart-complete:disabled:hover {\n",
              "    background-color: var(--disabled-bg-color);\n",
              "    fill: var(--disabled-fill-color);\n",
              "    box-shadow: none;\n",
              "  }\n",
              "\n",
              "  .colab-df-spinner {\n",
              "    border: 2px solid var(--fill-color);\n",
              "    border-color: transparent;\n",
              "    border-bottom-color: var(--fill-color);\n",
              "    animation:\n",
              "      spin 1s steps(1) infinite;\n",
              "  }\n",
              "\n",
              "  @keyframes spin {\n",
              "    0% {\n",
              "      border-color: transparent;\n",
              "      border-bottom-color: var(--fill-color);\n",
              "      border-left-color: var(--fill-color);\n",
              "    }\n",
              "    20% {\n",
              "      border-color: transparent;\n",
              "      border-left-color: var(--fill-color);\n",
              "      border-top-color: var(--fill-color);\n",
              "    }\n",
              "    30% {\n",
              "      border-color: transparent;\n",
              "      border-left-color: var(--fill-color);\n",
              "      border-top-color: var(--fill-color);\n",
              "      border-right-color: var(--fill-color);\n",
              "    }\n",
              "    40% {\n",
              "      border-color: transparent;\n",
              "      border-right-color: var(--fill-color);\n",
              "      border-top-color: var(--fill-color);\n",
              "    }\n",
              "    60% {\n",
              "      border-color: transparent;\n",
              "      border-right-color: var(--fill-color);\n",
              "    }\n",
              "    80% {\n",
              "      border-color: transparent;\n",
              "      border-right-color: var(--fill-color);\n",
              "      border-bottom-color: var(--fill-color);\n",
              "    }\n",
              "    90% {\n",
              "      border-color: transparent;\n",
              "      border-bottom-color: var(--fill-color);\n",
              "    }\n",
              "  }\n",
              "</style>\n",
              "\n",
              "  <script>\n",
              "    async function quickchart(key) {\n",
              "      const quickchartButtonEl =\n",
              "        document.querySelector('#' + key + ' button');\n",
              "      quickchartButtonEl.disabled = true;  // To prevent multiple clicks.\n",
              "      quickchartButtonEl.classList.add('colab-df-spinner');\n",
              "      try {\n",
              "        const charts = await google.colab.kernel.invokeFunction(\n",
              "            'suggestCharts', [key], {});\n",
              "      } catch (error) {\n",
              "        console.error('Error during call to suggestCharts:', error);\n",
              "      }\n",
              "      quickchartButtonEl.classList.remove('colab-df-spinner');\n",
              "      quickchartButtonEl.classList.add('colab-df-quickchart-complete');\n",
              "    }\n",
              "    (() => {\n",
              "      let quickchartButtonEl =\n",
              "        document.querySelector('#df-44d89f1d-e3df-4561-9ae1-ed096038e38e button');\n",
              "      quickchartButtonEl.style.display =\n",
              "        google.colab.kernel.accessAllowed ? 'block' : 'none';\n",
              "    })();\n",
              "  </script>\n",
              "</div>\n",
              "\n",
              "    </div>\n",
              "  </div>\n"
            ]
          },
          "metadata": {},
          "execution_count": 18
        }
      ]
    },
    {
      "cell_type": "markdown",
      "source": [
        "This code updates the time dataframe with the time data obtained from this iteration (input size 10,000 and runtime of 20.2s) and also exports the pandas dataframe with the disease tokens row.\n",
        "\n",
        "The 'description' column remains even though its data is now irrelevant because it will serve as the foreign key to inner join the 'disease_token' column with the original dataset."
      ],
      "metadata": {
        "id": "XrZ7FwB9iFnc"
      }
    },
    {
      "cell_type": "code",
      "source": [
        "elapsed_time = end_time - start_time\n",
        "size = len(numpy_array)\n",
        "\n",
        "time_df = time_df.append({'Input Size':size, 'Time':elapsed_time}, ignore_index=True)\n",
        "time_df = time_df.sort_values(by='Input Size', ascending=True)\n",
        "\n",
        "time_df.to_csv('/content/drive/My Drive/Colab Notebooks/Classification/tokenizer_time.csv', index=False)\n",
        "pandas_df.to_csv('/content/drive/My Drive/Colab Notebooks/Classification/description_tokenized.csv', index=False)"
      ],
      "metadata": {
        "colab": {
          "base_uri": "https://localhost:8080/"
        },
        "id": "IPW3he2Xi7Oz",
        "outputId": "81fb7fa4-b449-4804-b293-bc68ade84915"
      },
      "execution_count": 19,
      "outputs": [
        {
          "output_type": "stream",
          "name": "stderr",
          "text": [
            "<ipython-input-19-ecbadd993428>:4: FutureWarning: The frame.append method is deprecated and will be removed from pandas in a future version. Use pandas.concat instead.\n",
            "  time_df = time_df.append({'Input Size':size, 'Time':elapsed_time}, ignore_index=True)\n"
          ]
        }
      ]
    },
    {
      "cell_type": "markdown",
      "source": [
        "## Time Complexity Analysis"
      ],
      "metadata": {
        "id": "PdLTKNSHjDMB"
      }
    },
    {
      "cell_type": "markdown",
      "source": [
        "This code creates a graph of the runtime data collected at different input sizes for the NLP model and a linear regression prediction model based on this data that is used to predict the runtime for the entire dataset."
      ],
      "metadata": {
        "id": "wLKluuIDjW4O"
      }
    },
    {
      "cell_type": "code",
      "source": [
        "x = time_df['Input Size']\n",
        "y = time_df['Time']\n",
        "\n",
        "sns.regplot(x=x, y=y, data=time_df, ci=None)\n",
        "\n",
        "plt.xlabel('Input Size')\n",
        "plt.ylabel('Time (s)')\n",
        "plt.title('Runtime of Disease NER')\n",
        "\n",
        "plt.show()"
      ],
      "metadata": {
        "colab": {
          "base_uri": "https://localhost:8080/",
          "height": 472
        },
        "id": "EB8V3OU7sY6Y",
        "outputId": "ffacadfb-1f4c-448c-ca6c-20d271e1c3c0"
      },
      "execution_count": 20,
      "outputs": [
        {
          "output_type": "display_data",
          "data": {
            "text/plain": [
              "<Figure size 640x480 with 1 Axes>"
            ],
            "image/png": "[encoded data removed]"
          },
          "metadata": {}
        }
      ]
    },
    {
      "cell_type": "code",
      "source": [
        "n = len(x)\n",
        "m = (n * np.sum(x * y) - np.sum(x) * np.sum(y)) / (n * np.sum(x**2) - (np.sum(x)**2))\n",
        "b = (np.sum(y) - m * np.sum(x)) / n\n",
        "\n",
        "input_size_predict = 294884116\n",
        "predicted_time = m * input_size_predict + b\n",
        "\n",
        "print(f\"Input Size: {input_size_predict}\")\n",
        "print(f\"Predicted Time: {predicted_time:.0f} seconds, {predicted_time/3600:.2f} hours, or {predicted_time/86400:.2f} days\")"
      ],
      "metadata": {
        "colab": {
          "base_uri": "https://localhost:8080/"
        },
        "id": "QDw8rqgKMyHK",
        "outputId": "97bf68cc-6e00-471c-e4cb-082325db6585"
      },
      "execution_count": 21,
      "outputs": [
        {
          "output_type": "stream",
          "name": "stdout",
          "text": [
            "Input Size: 294884116\n",
            "Predicted Time: 375420 seconds, 104.28 hours, or 4.35 days\n"
          ]
        }
      ]
    },
    {
      "cell_type": "markdown",
      "source": [
        "So this presents us with good news and bad news. The good news: the function runs at an O(n) runtime, which is pretty fast. The bad news: in order to process the 294,884,116 rows it would take around 4.35 days according to our linear regression model."
      ],
      "metadata": {
        "id": "kd7_lBCTv7f1"
      }
    },
    {
      "cell_type": "markdown",
      "source": [
        "## Conclusion\n"
      ],
      "metadata": {
        "id": "dUsjx_5EkiB1"
      }
    },
    {
      "cell_type": "markdown",
      "source": [
        "Ultimately, the BC5CDR NER model was able to extract the disease names from the 'description' column. However, in order to effectively extract and clean the disease names for the entire dataset there are only three options: try to optimize the code further, find a stronger computer to run the code on, or find a way to consistently run the program for 4.35 days.\n",
        "\n",
        "I feel that it will require a combination of these to successfully complete this task, considering that to optimize the code to a comfortable time (around 1 hour) it would have to become 104x faster (predicted 104 hour runtime currently).\n",
        "\n",
        "However, once this bottleneck is resovled and the new 'description_tokens' column is inner joined on the healthcare dataset I estimate there will be less than 29 million rows and the dataset will be smaller than 3.3 gigabytes instead of 33. This is much more workable and then a neural net or simpler machine learning algorithms can be used to derive important healthcare cost data."
      ],
      "metadata": {
        "id": "KwhTTldZzl3y"
      }
    }
  ]
}